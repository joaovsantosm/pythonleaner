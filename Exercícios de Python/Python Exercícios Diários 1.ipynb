{
 "cells": [
  {
   "cell_type": "code",
   "execution_count": 1,
   "id": "1a46dbc8",
   "metadata": {},
   "outputs": [
    {
     "name": "stdin",
     "output_type": "stream",
     "text": [
      "Unidade de Entrada: Ceusius digite 1 -- Fahrenheit digite 2: Escolha = 1\n",
      "Digite a temperatura em Ceusius  23\n"
     ]
    },
    {
     "name": "stdout",
     "output_type": "stream",
     "text": [
      "Temperatura em Fahrenheit é = 73.4\n"
     ]
    }
   ],
   "source": [
    "# Programa de cálculo de Temperatura\n",
    "type=int(input(\"Unidade de Entrada: Ceusius digite 1 -- Fahrenheit digite 2: Escolha =\"))\n",
    "while type>2:\n",
    "    print(\"Entrada inválida\")\n",
    "    print(\"Digite Novamente\")\n",
    "    type=int(input(\"Unidade de Entrada: Ceusius digite 1 -- Fahrenheit digite 2: Escolha =\"))\n",
    "if (type == 1):\n",
    "    c=float(input(\"Digite a temperatura em Ceusius \"))\n",
    "    f = (0.20*c*9)+32\n",
    "    print(\"Temperatura em Fahrenheit é = \"+str(f))\n",
    "if (type == 2):\n",
    "    f=float(input(\"Digite a temperatura em Fahrenheit \"))\n",
    "    c = (f-32)*(5.0/9.0)\n",
    "    print(\"Temperatura em Ceulsius é = \"+str(c))"
   ]
  },
  {
   "cell_type": "code",
   "execution_count": 2,
   "id": "3298702e",
   "metadata": {},
   "outputs": [
    {
     "name": "stdin",
     "output_type": "stream",
     "text": [
      "File size in MB =  123\n",
      "Internet Speed in Mbps =  123\n"
     ]
    },
    {
     "name": "stdout",
     "output_type": "stream",
     "text": [
      "0.0 h 0.0 min 8.0 s\n"
     ]
    }
   ],
   "source": [
    "# Tempo de download de acordo com a velocidade da Internet\n",
    "size = float(input(\"File size in MB = \"))\n",
    "ispeed = float(input(\"Internet Speed in Mbps = \"))\n",
    "def downloadtimer(size, ispeed):\n",
    "    convertion = 8 #MBytes in Mbits\n",
    "    downspeed = size*convertion/ispeed #in seconds\n",
    "    downsec = downspeed%60\n",
    "    downmin = (downspeed//60)%60\n",
    "    downhour = (downspeed//3600)\n",
    "    time = str(downhour)+\" h \"+str(downmin)+\" min \"+str(downsec)+\" s\"\n",
    "    print (time)\n",
    "downloadtimer(size,ispeed)"
   ]
  },
  {
   "cell_type": "code",
   "execution_count": 3,
   "id": "58e729f3",
   "metadata": {},
   "outputs": [],
   "source": [
    "# Programa de cálculo de Salário Líquido\n",
    "#global sbruto = float(input(\"Digite o salário bruto\"))\n",
    "\n",
    "#def decontoinss():\n",
    "    #if sbruto<=1100\n",
    "    \n",
    "    \n",
    "    \n",
    "#if sbruto<=2500:\n",
    "    \n",
    "\n"
   ]
  },
  {
   "cell_type": "code",
   "execution_count": 4,
   "id": "79a70909",
   "metadata": {},
   "outputs": [],
   "source": [
    "# Programa função com sequência de Fibonacci\n",
    "def fib(n):\n",
    "    counter = 0\n",
    "    #while n>=counter:\n",
    "    #print(counter)\n",
    "    list = [0,1]\n",
    "    if n==1:\n",
    "        print(list[0])\n",
    "    elif n==2:\n",
    "        print(list[1])\n",
    "    elif n>=3:\n",
    "        while n>counter:\n",
    "            counter = counter + 1\n",
    "            num = list[-1]+list[-2]\n",
    "            list.append(num)\n",
    "            counter = counter + 1\n",
    "        print(list)\n",
    "    else:\n",
    "        print(\"Wrong sequence number! Try Again!\")\n",
    "        \n",
    "#COMPLETO\n"
   ]
  },
  {
   "cell_type": "markdown",
   "id": "5b7ca9db-8c43-40fb-8474-f9cf563da327",
   "metadata": {},
   "source": []
  },
  {
   "cell_type": "code",
   "execution_count": 1,
   "id": "1cc031cb",
   "metadata": {
    "tags": []
   },
   "outputs": [
    {
     "name": "stdout",
     "output_type": "stream",
     "text": [
      "<class 'str'>\n",
      "<class 'int'>\n",
      "<class 'float'>\n"
     ]
    }
   ],
   "source": [
    "a = \"Joao\"\n",
    "b = 10\n",
    "c = 5.0\n",
    "print(type(a))\n",
    "print(type(b))\n",
    "print(type(c))"
   ]
  },
  {
   "cell_type": "code",
   "execution_count": 17,
   "id": "639b3c55",
   "metadata": {},
   "outputs": [
    {
     "name": "stdout",
     "output_type": "stream",
     "text": [
      "range(0, 5)\n"
     ]
    }
   ],
   "source": [
    "#AULA 03 - Python para PNL\n",
    "#Tipos de Variáveis\n",
    "\n",
    "\n",
    "\n",
    "\n",
    "#Listas\n",
    "CONTINUAR QUANDO TIVER INTERNET"
   ]
  },
  {
   "cell_type": "code",
   "execution_count": 2,
   "id": "099ddb5b",
   "metadata": {},
   "outputs": [
    {
     "name": "stdout",
     "output_type": "stream",
     "text": [
      "-----------------Questão 1-----------------\n",
      "<class 'int'> <class 'float'> <class 'str'>\n",
      "-----------------Questão 2-----------------\n",
      "<class 'str'>\n",
      "-----------------Questão 3-----------------\n",
      "-----------------Questão 4-----------------\n",
      "[0, 1, 2, 3, 4, 5, 6, 7, 8]\n",
      "---a)---\n",
      "[0, 1, 2, 3, 4, 5, 6, 7, 8, 6]\n",
      "---b)---\n",
      "[0, 1, 7, 2, 3, 4, 5, 6, 7, 8, 6]\n",
      "---c)---\n",
      "[0, 1, 2, 3, 4, 5, 6, 7, 8, 6]\n",
      "---d)---\n",
      "[0, 1, 2, 3, 4, 5, 6, 7, 8, 6, 4]\n",
      "---e)---\n",
      "Ocorrências do 4 = 2\n",
      "---f)---\n",
      "[0, 1, 2, 3, 4, 4, 5, 6, 6, 7, 8]\n"
     ]
    }
   ],
   "source": [
    "#LISTA DE EXERCÍCIOS 01 - PYTHON PARA PNL\n",
    "# QUESTÃO 01\n",
    "print('-----------------Questão 1-----------------')\n",
    "a = 1\n",
    "b = 5.9\n",
    "c = 'teste'\n",
    "print(type(a),type(b),type(c))\n",
    "\n",
    "# QUESTÃO 02\n",
    "print('-----------------Questão 2-----------------')\n",
    "a = '1'\n",
    "print(type(a)) #O valor do tipo da variável a mudou de inteiro para string\n",
    "\n",
    "#QUESTÃO 03 --- NAO CONSEGUI\n",
    "print('-----------------Questão 3-----------------')\n",
    "##print(b+c)\n",
    "\n",
    "#QUESTÃO 04\n",
    "print('-----------------Questão 4-----------------')\n",
    "l = list(range(9))\n",
    "print(l)\n",
    "print('---a)---')\n",
    "l.append(6)\n",
    "print(l)\n",
    "print('---b)---')\n",
    "l.insert(2,7)\n",
    "print(l)\n",
    "print('---c)---')\n",
    "l.remove(7)\n",
    "print(l)\n",
    "print('---d)---')\n",
    "l.append(4)\n",
    "print(l)\n",
    "print('---e)---')\n",
    "print(\"Ocorrências do 4 =\",l.count(4))\n",
    "print('---f)---')\n",
    "l.sort()\n",
    "print(l)"
   ]
  },
  {
   "cell_type": "code",
   "execution_count": 30,
   "id": "f3cf3969",
   "metadata": {},
   "outputs": [
    {
     "name": "stdout",
     "output_type": "stream",
     "text": [
      "I love using Jupter Notebook\n",
      "I LOVE PYTHON\n",
      "i play magic\n",
      "I LOVE MAGIC\n",
      "What's your name?João\n",
      "What's your age?26\n",
      "My name is João, and I am 26\n"
     ]
    }
   ],
   "source": [
    "#Return the string without any whitespace at the beginning or the end.  Use variable.strip()\n",
    "\n",
    "txt = \"                  I love using Jupter Notebook                           \"\n",
    "print(txt.strip())\n",
    "\n",
    "#Convert the value of txt to upper case. Use variable.upper()\n",
    "txt = \"I love python\"\n",
    "print(txt.upper())\n",
    "\n",
    "#Convert the value of txt to lower case. Use variable.lower()\n",
    "txt = \"I PLAY MAGIC\"\n",
    "print(txt.lower())\n",
    "\n",
    "#Replace characters in a word.  Use variable.replace(\"letter(s) wich should be replaced\", (\"letter(s) to replace\"))\n",
    "\n",
    "txt = \"I PLAY MAGIC\"\n",
    "print(txt.replace(\"PLAY\",\"LOVE\"))\n",
    "\n",
    "#Insert the correct syntax to add a placeholder for the age parameter.\n",
    "name = str(input(\"What's your name?\"))\n",
    "age = int(input(\"What's your age?\"))\n",
    "txt = \"My name is {}, and I am {}\"\n",
    "print(txt.format(name,age))"
   ]
  },
  {
   "cell_type": "code",
   "execution_count": 36,
   "id": "d14c8c12",
   "metadata": {},
   "outputs": [
    {
     "name": "stdout",
     "output_type": "stream",
     "text": [
      "True\n",
      "False\n"
     ]
    }
   ],
   "source": [
    "print(bool(\"abc\"))\n",
    "print(bool(0))"
   ]
  },
  {
   "cell_type": "code",
   "execution_count": 61,
   "id": "ccfefeea",
   "metadata": {},
   "outputs": [
    {
     "name": "stdout",
     "output_type": "stream",
     "text": [
      "['banana', 'maça', 'pera', 'uva']\n",
      "['banana', 'pera', 'uva']\n",
      "['banana', 'beterraba', 'pera', 'uva']\n",
      "['banana', 'beterraba', 'pera', 'uva', 'tangerina']\n",
      "['banana', 'beterraba', 'pera', 'tangerina', 'uva']\n",
      "['banana', 'beterraba', 'pera', 'tangerina', 'uva', 'adicionado', 'adicionado', 'adicionado', 'adicionado', 'adicionado']\n"
     ]
    }
   ],
   "source": [
    "#list tests\n",
    "\n",
    "list = ['banana', 'maça', 'pera', 'uva']\n",
    "print(list)\n",
    "list.remove(\"maça\")\n",
    "print(list)\n",
    "list.insert(1,\"beterraba\")\n",
    "print(list)\n",
    "list.append(\"tangerina\")\n",
    "print(list)\n",
    "list.sort()\n",
    "print(list)\n",
    "#List for\n",
    "for i in range(5):\n",
    "    list.append(\"adicionado\")\n",
    "\n",
    "print(list)"
   ]
  },
  {
   "cell_type": "code",
   "execution_count": null,
   "id": "70d11149",
   "metadata": {},
   "outputs": [],
   "source": []
  }
 ],
 "metadata": {
  "kernelspec": {
   "display_name": "Python 3",
   "language": "python",
   "name": "python3"
  },
  "language_info": {
   "codemirror_mode": {
    "name": "ipython",
    "version": 3
   },
   "file_extension": ".py",
   "mimetype": "text/x-python",
   "name": "python",
   "nbconvert_exporter": "python",
   "pygments_lexer": "ipython3",
   "version": "3.8.8"
  }
 },
 "nbformat": 4,
 "nbformat_minor": 5
}
